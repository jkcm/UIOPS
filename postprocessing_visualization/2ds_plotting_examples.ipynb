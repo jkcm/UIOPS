{
 "cells": [
  {
   "cell_type": "code",
   "execution_count": 23,
   "metadata": {},
   "outputs": [],
   "source": [
    "import numpy as np\n",
    "import xarray as xr\n",
    "import matplotlib.pyplot as plt\n",
    "import random\n",
    "import datetime as dt\n",
    "\n",
    "# functions\n",
    "def im2dec(arr):\n",
    "    \"\"\"takes in an n-by-8 array of 16-bit compressed representation of 2ds pixels and returns an n-by-128 array \n",
    "    of the expanded visual field\n",
    "    \"\"\"\n",
    "    def dec2binarr(arr):\n",
    "        return np.array(list(''.join([bin(int(i))[2:].zfill(16) for i in arr]))).astype(int)\n",
    "    \n",
    "    assert arr.shape[1] == 8\n",
    "    return np.array([dec2binarr(i) for i in arr])\n"
   ]
  },
  {
   "cell_type": "raw",
   "metadata": {},
   "source": [
    " Create panels of randomly selected particles sampled from:\n",
    "1. Large particle population from ice-only periods, the liquid-only period and mixed-phase example periods.   The mixed-phase period I currently have plotted is 4.78 to 4.95 UTC on Feb 4th 2018 from RF08.  I think you should draw from all particles in the period, not just those selected for the test set.\n",
    "2. Misclassified liquid and ice particles from the test sets\n",
    "3. Randomly drawn particles classified as liquid and ice from mixed-phase periods (which I need to send you)"
   ]
  },
  {
   "cell_type": "code",
   "execution_count": 154,
   "metadata": {},
   "outputs": [
    {
     "name": "stdout",
     "output_type": "stream",
     "text": [
      "11215\n",
      "28310\n",
      "2216\n"
     ]
    },
    {
     "data": {
      "image/png": "[encoded data removed]",
      "text/plain": [
       "<Figure size 432x288 with 30 Axes>"
      ]
     },
     "metadata": {},
     "output_type": "display_data"
    },
    {
     "data": {
      "image/png": "[encoded data removed]",
      "text/plain": [
       "<Figure size 432x288 with 30 Axes>"
      ]
     },
     "metadata": {},
     "output_type": "display_data"
    },
    {
     "data": {
      "image/png": "[encoded data removed]",
      "text/plain": [
       "<Figure size 432x288 with 30 Axes>"
      ]
     },
     "metadata": {},
     "output_type": "display_data"
    }
   ],
   "source": [
    "\n",
    "\n",
    "def plot_random_from_flight(flight_name, start_time, end_time, ax=[], size_lim=size_lim, apply_UW_filter=apply_UW_filter, color_by_class=True):\n",
    "    if len(ax)==0:\n",
    "        fig, axg = plt.subplots(nrows=5, ncols=6)\n",
    "        ax = axg.flatten()\n",
    "        plt.subplots_adjust(wspace=0.05, hspace=0.01)\n",
    "        fig.patch.set_facecolor('lightgrey')\n",
    "    flight_file = f'/home/disk/eos9/jfinlon/socrates/{flight_name.lower()}/pbp.{flight_name.lower()}.2DS.H.nc'\n",
    "    probe_file = f'/home/disk/eos9/jfinlon/socrates/{flight_name.lower()}/DIMG.{flight_name.lower()}.2DS.H.cdf'\n",
    "    class_file = f'/home/disk/eos9/jkcm/Data/particle/classified/UW_particle_classifications.{flight_name.lower()}.nc'\n",
    "    probe_data = xr.open_dataset(probe_file)\n",
    "    flight_data = xr.open_dataset(flight_file)\n",
    "    class_data = xr.open_dataset(class_file)\n",
    "    assert(len(class_data.time) == len(flight_data.time))\n",
    "    data = xr.merge([flight_data, class_data])\n",
    "    data = data.set_coords(['datetime'])\n",
    "    data_subs = data.isel(time=np.logical_and(data.datetime>np.datetime64(start_time), data.datetime<np.datetime64(end_time)))\n",
    "    if size_lim:\n",
    "        data_subs = data_subs.where(data_subs.image_area>=size_lim, drop=True)\n",
    "    if apply_UW_filter:\n",
    "        data_subs = data_subs.where(data_subs.UW_flag==0, drop=True)\n",
    "    \n",
    "    for axi in ax:\n",
    "        axi.axis('off')\n",
    "\n",
    "    print(len(data_subs.time))\n",
    "    random_selection = np.random.choice(data_subs.time, len(ax))\n",
    "    for next_particle, axi in zip(random_selection, ax):\n",
    "#         print(data_subs.UW_phase[next_particle].values)\n",
    "        if color_by_class:\n",
    "            color = 'Greys' if data_subs.UW_phase[next_particle].values == 0 else 'Blues_r'         \n",
    "        else:\n",
    "            color='Greys'\n",
    "        particle_frame = int(data_subs.parent_rec_num[next_particle].values)\n",
    "        time = data_subs.datetime[next_particle].values\n",
    "        [slice_start, slice_end] = data_subs.position[next_particle].values.astype(int)\n",
    "        image_data = probe_data['data'].isel(time=particle_frame-1, ImgBlocklen=slice(slice_start-1, slice_end)).values\n",
    "        axi.imshow(~im2dec(image_data), cmap=color)\n",
    "        \n",
    "    return \n",
    "\n",
    "plot_random_from_flight( 'rf01', \n",
    "                        start_time=dt.datetime(2018, 1, 16, 4) + dt.timedelta(hours=0.42), \n",
    "                        end_time=dt.datetime(2018, 1, 16, 4) + dt.timedelta(hours=0.46),\n",
    "                        size_lim=0.07, apply_UW_filter=True, color_by_class=True)\n",
    "\n",
    "plot_random_from_flight( 'rf03', \n",
    "                        start_time=dt.datetime(2018, 1, 22, 22) + dt.timedelta(hours=0.3), \n",
    "                        end_time=dt.datetime(2018, 1, 22, 22) + dt.timedelta(hours=0.5),\n",
    "                        size_lim=0.07, apply_UW_filter=True, color_by_class=True)\n",
    "\n",
    "plot_random_from_flight('rf05', \n",
    "                        start_time=dt.datetime(2018, 1, 26, 4) + dt.timedelta(hours=0.85), \n",
    "                        end_time=dt.datetime(2018, 1, 26, 4) + dt.timedelta(hours=0.91), \n",
    "                        size_lim=0.07, apply_UW_filter=True, color_by_class=True)"
   ]
  },
  {
   "cell_type": "code",
   "execution_count": 153,
   "metadata": {},
   "outputs": [
    {
     "name": "stdout",
     "output_type": "stream",
     "text": [
      "3901\n"
     ]
    },
    {
     "data": {
      "image/png": "[encoded data removed]",
      "text/plain": [
       "<Figure size 432x288 with 30 Axes>"
      ]
     },
     "metadata": {},
     "output_type": "display_data"
    }
   ],
   "source": [
    "\n",
    "plot_random_from_flight('rf05', \n",
    "                        start_time=dt.datetime(2018, 1, 26, 4) + dt.timedelta(hours=0.85), \n",
    "                        end_time=dt.datetime(2018, 1, 26, 4) + dt.timedelta(hours=0.9), \n",
    "                        size_lim=0.01, apply_UW_filter=True, color_by_class=True)"
   ]
  },
  {
   "cell_type": "code",
   "execution_count": null,
   "metadata": {},
   "outputs": [],
   "source": []
  }
 ],
 "metadata": {
  "kernelspec": {
   "display_name": "classified-cset",
   "language": "python",
   "name": "classified-cset"
  },
  "language_info": {
   "codemirror_mode": {
    "name": "ipython",
    "version": 3
   },
   "file_extension": ".py",
   "mimetype": "text/x-python",
   "name": "python",
   "nbconvert_exporter": "python",
   "pygments_lexer": "ipython3",
   "version": "3.7.6"
  }
 },
 "nbformat": 4,
 "nbformat_minor": 4
}
